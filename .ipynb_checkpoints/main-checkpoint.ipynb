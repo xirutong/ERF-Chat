{
 "cells": [
  {
   "cell_type": "markdown",
   "id": "27cf93f2",
   "metadata": {},
   "source": [
    "pip install -U sentence-transformers"
   ]
  },
  {
   "cell_type": "code",
   "execution_count": 1,
   "id": "9633b91a-58fc-41a2-9ae8-93da662a1989",
   "metadata": {},
   "outputs": [],
   "source": [
    "import warnings\n",
    "warnings.filterwarnings('ignore')\n",
    "from crewai import Agent, Task, Crew\n",
    "from langchain_openai import ChatOpenAI\n",
    "import os"
   ]
  },
  {
   "cell_type": "code",
   "execution_count": 2,
   "id": "e2804507-b1ce-4564-a57c-6c505cee519f",
   "metadata": {},
   "outputs": [],
   "source": [
    "from dotenv import load_dotenv\n",
    "# Load environment variables from .env file\n",
    "load_dotenv()\n",
    "\n",
    "OPENAI_API_KEY = os.getenv(\"OPENAI_API_KEY\")\n",
    "SERPER_API_KEY = os.getenv(\"SERPER_API_KEY\")"
   ]
  },
  {
   "cell_type": "markdown",
   "id": "84b878f7",
   "metadata": {},
   "source": [
    "# Define Input"
   ]
  },
  {
   "cell_type": "code",
   "execution_count": 3,
   "id": "d28f100c-4b1f-4225-af1f-4a175b8139e7",
   "metadata": {},
   "outputs": [],
   "source": [
    "background = \"I'm looking for activities related to the application of robotics to flying machines.\"\n",
    "folder_path = \"synthetic-documents\""
   ]
  },
  {
   "cell_type": "markdown",
   "id": "e6ecb22a-abb0-478e-b4d3-fb00b4cd4684",
   "metadata": {},
   "source": [
    "# Get Matrix\n",
    "\n",
    "We don't incorporate get_matrix into a tool because the matrix is fixed once the documents are finished. So that the matrix will not be initialized every time we kick off the crew (or when new query comes in)."
   ]
  },
  {
   "cell_type": "raw",
   "id": "6543726e-dc32-4e8b-b549-920ea27f0ca1",
   "metadata": {},
   "source": [
    "from get_matrix import *\n",
    "get_matrix(folder_path)"
   ]
  },
  {
   "cell_type": "markdown",
   "id": "13695807",
   "metadata": {},
   "source": [
    "If you want to train with SBERT model, run the following cell instead."
   ]
  },
  {
   "cell_type": "raw",
   "id": "72055f66",
   "metadata": {},
   "source": [
    "from train_sbert import train\n",
    "train(folder_path)"
   ]
  },
  {
   "cell_type": "markdown",
   "id": "3c417b88-5614-466c-9a57-6cddee82657a",
   "metadata": {},
   "source": [
    "# Creating Tools"
   ]
  },
  {
   "cell_type": "code",
   "execution_count": 4,
   "id": "2c6571c2-a513-4a92-8165-c87e4bc9055f",
   "metadata": {},
   "outputs": [],
   "source": [
    "# Use tf-idf version\n",
    "from TFIDFActivityRecommendationTool import TFIDFActivityRecommendationTool\n",
    "activity_recommendation_tool = TFIDFActivityRecommendationTool()\n",
    "\n",
    "# OR\n",
    "# Use SBERT version\n",
    "#from SBERTActivityRecommendationTool import SBERTActivityRecommendationTool\n",
    "#activity_recommendation_tool = SBERTActivityRecommendationTool()\n",
    "\n",
    "from FileReadTool import FileReadTool\n",
    "file_read_tool = FileReadTool()"
   ]
  },
  {
   "cell_type": "markdown",
   "id": "f57e6a1d-8e91-4468-838b-6f667fc7faa8",
   "metadata": {},
   "source": [
    "# Creating Agents"
   ]
  },
  {
   "cell_type": "code",
   "execution_count": 5,
   "id": "d7738114-77f1-4fb6-a925-b795e432464d",
   "metadata": {},
   "outputs": [],
   "source": [
    "recommendation_agent = Agent(\n",
    "    role=\"Activity Recommendation Researcher\",\n",
    "    goal=\"Help do the information analysis of all activities and find the most\"\n",
    "        \"useful ones for guests at European Robitics Forum\",\n",
    "    backstory=(f\"\"\"\n",
    "        With extensive knowledge of the events, you are equipped to provide accurate information \n",
    "        and valuable insights.\n",
    "        Using a specialized tool, you can tailor recommendations for activities that best fit \n",
    "        each guest's background and interests.\n",
    "        \n",
    "        The guest's background is:\n",
    "        {background}\n",
    "        \n",
    "        Please don't recommend anything else except the ones you obtain with the tool.\n",
    "        You can modify the description of these activities, making it more straightforward\n",
    "        and concise.\n",
    "        \"\"\"\n",
    "    ),\n",
    "    tools = [activity_recommendation_tool, file_read_tool],\n",
    "    llm=ChatOpenAI(model='gpt-3.5-turbo'),\n",
    "    allow_delegation=False,\n",
    "    verbose=False\n",
    ")"
   ]
  },
  {
   "cell_type": "code",
   "execution_count": 6,
   "id": "446ae73c",
   "metadata": {},
   "outputs": [],
   "source": [
    "guest_guide_bot_agent = Agent(\n",
    "    role=\"Guest Guide Bot\",\n",
    "    goal=\"Be a professional \"\n",
    "        \"guest guide volunteer to assist guests at European Robitics Forum\",\n",
    "    backstory=(f\"\"\"\n",
    "        As a dedicated bot for the European Robotics Forum, \n",
    "        you are passionate about robotics and committed to enhancing the experience of every guest.\n",
    "        You should convert the structured information from the last task to a chatbot style output in\n",
    "        order to interact with guests friendly.\n",
    "        \n",
    "        The guest's background is:\n",
    "        {background}\n",
    "        \n",
    "        Please don't make up any informtion and only use the information from the previous task.\n",
    "        Your friendly demeanor and willingness to assist ensure that each guest feels welcome \n",
    "        and supported, making their visit both enjoyable and informative.\n",
    "        Your role is vital in fostering a positive atmosphere and ensuring the smooth operation \n",
    "        of the forum.\n",
    "        \"\"\"\n",
    "    ),\n",
    "    tools = [activity_recommendation_tool],\n",
    "    llm=ChatOpenAI(model='gpt-3.5-turbo'),\n",
    "    allow_delegation=False,\n",
    "    verbose=False\n",
    ")"
   ]
  },
  {
   "cell_type": "markdown",
   "id": "682ad2ff-57a1-49eb-be6f-3bde8c09b6e4",
   "metadata": {},
   "source": [
    "# Creating Tasks"
   ]
  },
  {
   "cell_type": "code",
   "execution_count": 7,
   "id": "8a60bb19-0cc7-46c3-8e5a-b040061bcae7",
   "metadata": {},
   "outputs": [],
   "source": [
    "provide_recommendations_task = Task(\n",
    "    description=(\n",
    "        f\"guest just reached out with a request for activity recommendations.\"\n",
    "        f\"guest has a background in {background}. \"\n",
    "        f\"Make sure to use the specialized tool to find activities that best fit their interests and background. \"\n",
    "        f\"Strive to provide a complete and accurate recommended activities.\"\n",
    "        f\"The description should be filled with the summarization of the contents.\"\n",
    "    ),\n",
    "    expected_output=(\"\"\"\n",
    "        output = [\n",
    "                        {\n",
    "                            \"file_name\": \"synthetic-documents/abc.docx\",\n",
    "                            \"topic\": \"abc\",\n",
    "                            \"contents\": \"hhh\"\n",
    "                            \"description\": \"abh\"\n",
    "                        },\n",
    "                        {\n",
    "                            \"file_name\": \"synthetic-documents/xxx.docx\",\n",
    "                            \"topic\": \"dec\",\n",
    "                            \"contents\": \"hhh\"\n",
    "                            \"description\": \"dse\"\n",
    "                        },\n",
    "                        # Add more dictionaries as needed\n",
    "                ]\"\"\"      \n",
    "    ),\n",
    "    agent=recommendation_agent,\n",
    "    tool=[activity_recommendation_tool, file_read_tool]\n",
    ")"
   ]
  },
  {
   "cell_type": "code",
   "execution_count": 9,
   "id": "354a1343",
   "metadata": {},
   "outputs": [],
   "source": [
    "chatbot_output_task  = Task(\n",
    "    description=(\n",
    "        \"\"\"Convert the output from the previous task into a chatbot style output.\n",
    "        Ignore the fields \"file_name\" and \"contents\",  the output must contain \"topic\" and information from \"description\". \n",
    "        It's super important that you don't make up things and you are faithful to the information from the last task.\n",
    "        \"\"\"\n",
    "    ),\n",
    "    expected_output=(\"\"\"A chatbot style generation.\n",
    "    For example:\n",
    "    Welcome to European Robotics Forum! Based on your profile as a professor interested in ...I recommend the following activities for you\n",
    "    ...\n",
    "    Hope you enjoy the time here!\n",
    "    \"\"\"\n",
    "     ),\n",
    "    agent=guest_guide_bot_agent,\n",
    "    tool=[]\n",
    ")"
   ]
  },
  {
   "cell_type": "markdown",
   "id": "c39ba2fc-6ba0-4f6a-ac3c-b6aa8ef9d20e",
   "metadata": {},
   "source": [
    "# Create the Crew"
   ]
  },
  {
   "cell_type": "code",
   "execution_count": 10,
   "id": "3fa70855-0d2e-41bd-9911-31802d2ad837",
   "metadata": {},
   "outputs": [],
   "source": [
    "crew = Crew(\n",
    "  agents=[recommendation_agent,guest_guide_bot_agent],\n",
    "  tasks=[provide_recommendations_task, chatbot_output_task],\n",
    "  verbose=True,\n",
    "  memory=True\n",
    ")"
   ]
  },
  {
   "cell_type": "markdown",
   "id": "04229e55-6fe6-4f4a-a212-b90d3deeab05",
   "metadata": {},
   "source": [
    "# Run the Crew"
   ]
  },
  {
   "cell_type": "code",
   "execution_count": 12,
   "id": "23e0df51-38bb-4f64-88da-9afceb847114",
   "metadata": {},
   "outputs": [
    {
     "name": "stdout",
     "output_type": "stream",
     "text": [
      "\u001b[1m\u001b[95m [2024-09-23 00:14:22][DEBUG]: == Working Agent: Activity Recommendation Researcher\u001b[00m\n",
      "\u001b[1m\u001b[95m [2024-09-23 00:14:22][INFO]: == Starting Task: guest just reached out with a request for activity recommendations.guest has a background in I'm looking for activities related to the application of robotics to flying machines.. Make sure to use the specialized tool to find activities that best fit their interests and background. Strive to provide a complete and accurate recommended activities.The description should be filled with the summarization of the contents.\u001b[00m\n",
      "\u001b[1m\u001b[95m [2024-09-23 00:14:22][DEBUG]: == Working Agent: Activity Recommendation Researcher\u001b[00m\n",
      "\u001b[1m\u001b[95m [2024-09-23 00:14:22][INFO]: == Starting Task: guest just reached out with a request for activity recommendations.guest has a background in I'm looking for activities related to the application of robotics to flying machines.. Make sure to use the specialized tool to find activities that best fit their interests and background. Strive to provide a complete and accurate recommended activities.The description should be filled with the summarization of the contents.\u001b[00m\n"
     ]
    },
    {
     "name": "stderr",
     "output_type": "stream",
     "text": [
      "Inserting batches in chromadb: 100%|█████████████████████████████████████████████████████| 1/1 [00:00<00:00,  2.00it/s]\n",
      "\n"
     ]
    },
    {
     "name": "stdout",
     "output_type": "stream",
     "text": [
      "\u001b[1m\u001b[92m [2024-09-23 00:14:37][DEBUG]: == [Activity Recommendation Researcher] Task output: [\n",
      "    {\n",
      "        \"file_name\": \"synthetic-documents/workshop1.docx\",\n",
      "        \"topic\": \"Robotics in Key Application Areas: Healthcare\",\n",
      "        \"contents\": \"Join us at our focused workshop, 'Robotics in Key Application Areas: Healthcare,' designed for healthcare professionals, roboticists, engineers, and researchers who are keen on understanding and advancing the role of robotics in the medical field. This comprehensive session will delve into the transformative impact of robotics on healthcare services, patient care, and surgical procedures. Highlights include an introduction to medical robotics, case studies in robotic surgery, innovations in patient care, hands-on demonstrations, panel discussions on ethics and future directions, collaborative workshop activities, and networking opportunities. Target audience includes medical professionals, robotics engineers, technology developers, and academic researchers interested in integrating robotics into healthcare settings.\",\n",
      "        \"description\": \"This workshop focuses on the application of robotics in healthcare, covering topics such as medical robotics, robotic surgery, patient care innovations, ethics, and future trends. It offers hands-on experiences, panel discussions, and networking opportunities for healthcare professionals, engineers, and researchers.\"\n",
      "    },\n",
      "    {\n",
      "        \"file_name\": \"synthetic-documents/workshop4.docx\",\n",
      "        \"topic\": \"Next-Gen Robotics Technologies: Robotics and AI\",\n",
      "        \"contents\": \"Welcome to 'Next-Gen Robotics Technologies: Robotics and AI,' a dynamic workshop for technologists, engineers, researchers, and innovators interested in the convergence of robotics and artificial intelligence. The session explores cutting-edge advancements, AI integration, foundations of AI in robotics, case studies of AI-driven robotics, hands-on AI robotics labs, ethical considerations, innovation, future trends, and panel discussions with industry leaders. Target audience includes professionals and academics in robotics, AI, and related fields.\",\n",
      "        \"description\": \"This workshop delves into the intersection of robotics and artificial intelligence, covering topics such as AI integration, case studies, hands-on labs, ethical implications, innovation, and future trends. It is suitable for professionals, researchers, and academics in robotics and AI.\"\n",
      "    },\n",
      "    {\n",
      "        \"file_name\": \"synthetic-documents/workshop7.docx\",\n",
      "        \"topic\": \"Next-Gen Robotics Technologies: Scientific Basis of Robotics\",\n",
      "        \"contents\": \"Welcome to the 'Next-Gen Robotics Technologies: Scientific Basis of Robotics' workshop, designed for researchers, students, and professionals interested in the scientific principles behind cutting-edge robotics. The workshop covers fundamentals of robotic science, advanced materials, kinematics, dynamics, machine learning in robotics, sensor integration, robotics simulation, ethical considerations, interactive sessions, and demonstrations. Target audience includes academic researchers, industry professionals, and advanced students in robotics.\",\n",
      "        \"description\": \"This workshop focuses on the scientific foundations of robotics, covering topics such as robotic science fundamentals, materials, kinematics, dynamics, machine learning, sensor integration, simulation, ethics, and interactive demonstrations. It is suitable for researchers, industry professionals, and advanced students in robotics.\"\n",
      "    }\n",
      "]\n",
      "\n",
      "\u001b[00m\n",
      "\u001b[1m\u001b[95m [2024-09-23 00:14:37][DEBUG]: == Working Agent: Guest Guide Bot\u001b[00m\n",
      "\u001b[1m\u001b[95m [2024-09-23 00:14:37][INFO]: == Starting Task: Convert the output from the previous task into a chatbot style output.\n",
      "        Ignore the fields \"file_name\" and \"contents\",  the output must contain \"topic\" and information from \"description\". \n",
      "        It's super important that you don't make up things and you are faithful to the information from the last task.\n",
      "        \u001b[00m\n",
      "\u001b[1m\u001b[92m [2024-09-23 00:14:37][DEBUG]: == [Activity Recommendation Researcher] Task output: [\n",
      "    {\n",
      "        \"file_name\": \"synthetic-documents/workshop1.docx\",\n",
      "        \"topic\": \"Robotics in Key Application Areas: Healthcare\",\n",
      "        \"contents\": \"Join us at our focused workshop, 'Robotics in Key Application Areas: Healthcare,' designed for healthcare professionals, roboticists, engineers, and researchers who are keen on understanding and advancing the role of robotics in the medical field. This comprehensive session will delve into the transformative impact of robotics on healthcare services, patient care, and surgical procedures. Highlights include an introduction to medical robotics, case studies in robotic surgery, innovations in patient care, hands-on demonstrations, panel discussions on ethics and future directions, collaborative workshop activities, and networking opportunities. Target audience includes medical professionals, robotics engineers, technology developers, and academic researchers interested in integrating robotics into healthcare settings.\",\n",
      "        \"description\": \"This workshop focuses on the application of robotics in healthcare, covering topics such as medical robotics, robotic surgery, patient care innovations, ethics, and future trends. It offers hands-on experiences, panel discussions, and networking opportunities for healthcare professionals, engineers, and researchers.\"\n",
      "    },\n",
      "    {\n",
      "        \"file_name\": \"synthetic-documents/workshop4.docx\",\n",
      "        \"topic\": \"Next-Gen Robotics Technologies: Robotics and AI\",\n",
      "        \"contents\": \"Welcome to 'Next-Gen Robotics Technologies: Robotics and AI,' a dynamic workshop for technologists, engineers, researchers, and innovators interested in the convergence of robotics and artificial intelligence. The session explores cutting-edge advancements, AI integration, foundations of AI in robotics, case studies of AI-driven robotics, hands-on AI robotics labs, ethical considerations, innovation, future trends, and panel discussions with industry leaders. Target audience includes professionals and academics in robotics, AI, and related fields.\",\n",
      "        \"description\": \"This workshop delves into the intersection of robotics and artificial intelligence, covering topics such as AI integration, case studies, hands-on labs, ethical implications, innovation, and future trends. It is suitable for professionals, researchers, and academics in robotics and AI.\"\n",
      "    },\n",
      "    {\n",
      "        \"file_name\": \"synthetic-documents/workshop7.docx\",\n",
      "        \"topic\": \"Next-Gen Robotics Technologies: Scientific Basis of Robotics\",\n",
      "        \"contents\": \"Welcome to the 'Next-Gen Robotics Technologies: Scientific Basis of Robotics' workshop, designed for researchers, students, and professionals interested in the scientific principles behind cutting-edge robotics. The workshop covers fundamentals of robotic science, advanced materials, kinematics, dynamics, machine learning in robotics, sensor integration, robotics simulation, ethical considerations, interactive sessions, and demonstrations. Target audience includes academic researchers, industry professionals, and advanced students in robotics.\",\n",
      "        \"description\": \"This workshop focuses on the scientific foundations of robotics, covering topics such as robotic science fundamentals, materials, kinematics, dynamics, machine learning, sensor integration, simulation, ethics, and interactive demonstrations. It is suitable for researchers, industry professionals, and advanced students in robotics.\"\n",
      "    }\n",
      "]\n",
      "\n",
      "\u001b[00m\n",
      "\u001b[1m\u001b[95m [2024-09-23 00:14:37][DEBUG]: == Working Agent: Guest Guide Bot\u001b[00m\n",
      "\u001b[1m\u001b[95m [2024-09-23 00:14:37][INFO]: == Starting Task: Convert the output from the previous task into a chatbot style output.\n",
      "        Ignore the fields \"file_name\" and \"contents\",  the output must contain \"topic\" and information from \"description\". \n",
      "        It's super important that you don't make up things and you are faithful to the information from the last task.\n",
      "        \u001b[00m\n"
     ]
    },
    {
     "name": "stderr",
     "output_type": "stream",
     "text": [
      "Inserting batches in chromadb: 100%|█████████████████████████████████████████████████████| 1/1 [00:00<00:00,  2.00it/s]\n",
      "\n"
     ]
    },
    {
     "name": "stdout",
     "output_type": "stream",
     "text": [
      "\u001b[1m\u001b[92m [2024-09-23 00:14:52][DEBUG]: == [Guest Guide Bot] Task output: Welcome to the European Robotics Forum! Based on your interest in the application of robotics to flying machines, I recommend the following workshops for you:\n",
      "\n",
      "1. Workshop: \"Robotics in Key Application Areas: Healthcare\"\n",
      "   Description: This workshop focuses on the transformative impact of robotics on healthcare services, patient care, and surgical procedures. It includes sessions on medical robotics, robotic surgery, patient care innovations, ethics, and future trends. Ideal for healthcare professionals, engineers, and researchers.\n",
      "\n",
      "2. Workshop: \"Next-Gen Robotics Technologies: Scientific Basis of Robotics\"\n",
      "   Description: Dive into the scientific foundations of robotics, covering topics like robotic science fundamentals, materials, kinematics, dynamics, machine learning, sensor integration, simulation, ethics, and interactive demonstrations. Suitable for researchers, industry professionals, and advanced students in robotics.\n",
      "\n",
      "3. Workshop: \"Next-Gen Robotics Technologies: Robotics and AI\"\n",
      "   Description: Explore the convergence of robotics and artificial intelligence, including AI integration, case studies, hands-on labs, ethical implications, innovation, and future trends. Targeted at professionals, researchers, and academics in robotics and AI.\n",
      "\n",
      "Hope you find these workshops engaging and informative during your time at the forum! Enjoy your experience!\n",
      "\n",
      "\u001b[00m\n",
      "\u001b[1m\u001b[92m [2024-09-23 00:14:52][DEBUG]: == [Guest Guide Bot] Task output: Welcome to the European Robotics Forum! Based on your interest in the application of robotics to flying machines, I recommend the following workshops for you:\n",
      "\n",
      "1. Workshop: \"Robotics in Key Application Areas: Healthcare\"\n",
      "   Description: This workshop focuses on the transformative impact of robotics on healthcare services, patient care, and surgical procedures. It includes sessions on medical robotics, robotic surgery, patient care innovations, ethics, and future trends. Ideal for healthcare professionals, engineers, and researchers.\n",
      "\n",
      "2. Workshop: \"Next-Gen Robotics Technologies: Scientific Basis of Robotics\"\n",
      "   Description: Dive into the scientific foundations of robotics, covering topics like robotic science fundamentals, materials, kinematics, dynamics, machine learning, sensor integration, simulation, ethics, and interactive demonstrations. Suitable for researchers, industry professionals, and advanced students in robotics.\n",
      "\n",
      "3. Workshop: \"Next-Gen Robotics Technologies: Robotics and AI\"\n",
      "   Description: Explore the convergence of robotics and artificial intelligence, including AI integration, case studies, hands-on labs, ethical implications, innovation, and future trends. Targeted at professionals, researchers, and academics in robotics and AI.\n",
      "\n",
      "Hope you find these workshops engaging and informative during your time at the forum! Enjoy your experience!\n",
      "\n",
      "\u001b[00m\n"
     ]
    },
    {
     "name": "stderr",
     "output_type": "stream",
     "text": [
      "Inserting batches in chromadb: 100%|█████████████████████████████████████████████████████| 1/1 [00:02<00:00,  2.77s/it]\n",
      "\n",
      "Inserting batches in chromadb: 100%|█████████████████████████████████████████████████████| 1/1 [00:00<00:00,  1.49it/s]\n",
      "\n",
      "Inserting batches in chromadb: 100%|█████████████████████████████████████████████████████| 1/1 [00:00<00:00,  2.18it/s]\n",
      "\n"
     ]
    }
   ],
   "source": [
    "result = crew.kickoff()"
   ]
  },
  {
   "cell_type": "code",
   "execution_count": null,
   "id": "2ae71b2c",
   "metadata": {},
   "outputs": [],
   "source": [
    "from IPython.display import Markdown, display\n",
    "display(Markdown(result.raw))"
   ]
  },
  {
   "cell_type": "code",
   "execution_count": null,
   "id": "54547843",
   "metadata": {},
   "outputs": [],
   "source": []
  }
 ],
 "metadata": {
  "kernelspec": {
   "display_name": "Python 3 (ipykernel)",
   "language": "python",
   "name": "python3"
  },
  "language_info": {
   "codemirror_mode": {
    "name": "ipython",
    "version": 3
   },
   "file_extension": ".py",
   "mimetype": "text/x-python",
   "name": "python",
   "nbconvert_exporter": "python",
   "pygments_lexer": "ipython3",
   "version": "3.11.7"
  }
 },
 "nbformat": 4,
 "nbformat_minor": 5
}
